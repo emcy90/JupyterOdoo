{
 "cells": [
  {
   "cell_type": "markdown",
   "id": "91f68148-2e74-4737-bda2-5689096d2ad9",
   "metadata": {},
   "source": [
    "<H1>Odoo cheat sheet</H1>"
   ]
  },
  {
   "cell_type": "markdown",
   "id": "9ec5b250-b2c4-4e7e-8f56-22228b29e09e",
   "metadata": {},
   "source": [
    "<h2>Basic Terminal commands for odoo</h2>\n",
    "odooupdm DatabaseName ModuleName -- for updates in XML and other kinds of updates <br>\n",
    "odoorestart -- for updates in python-code and various other reasons <br>\n",
    "odootail -- for when wanting to see logger_messages when troubleshooting and what not <br> \n",
    "odooaddons -- command for opening up odoo.conf and setting addiontal path"
   ]
  },
  {
   "cell_type": "markdown",
   "id": "d33c3992-baeb-4ca2-ad44-ce4eb7c215b5",
   "metadata": {},
   "source": [
    "<h2>basic information about odoo and creation of custom modules</h2>"
   ]
  },
  {
   "cell_type": "markdown",
   "id": "c20c8b79-1fd2-415b-b8e1-0cd740ae01c9",
   "metadata": {},
   "source": [
    "For odoo setup when adding customs modules they should be added in odoo.conf file (can be found in some setups in etc-folder in a odoo-folder but may be elsewhere depending on setup) in addons_path-section of odoo.conf add the path of the folder that you wish to add. After adding to addons_path restart odoo and then update apps list to find the new addon/module <br>\n",
    "Odoo requires in each module that you have files named _ _ init _ _ .py and _ _ manifest _ _ .py <br>\n",
    "_ _ manifest _ _ .py should contain info about name for module, version of it, dependencies and which data is available for it. It can of course contain more than this like: summery and description, installable and application can be set to True and auto-install can be false etc. for examples check base-modules <br>\n",
    "models directory is where you place python-files and views directory is where you place all the xml-files<br>\n",
    "in each directory there should be a _ _ init _ _ .py file where you import the specific python files example: cookies.py needs to imported as follows: from . import module-name<br>\n",
    "_ name = name.model (where name.model is whatever name you want for the model) <br>\n",
    "_ description = \"brief description of the model for instance: this model is about hospital patients\" <br>"
   ]
  },
  {
   "cell_type": "markdown",
   "id": "725c036e-a66b-497f-b913-416121e838d6",
   "metadata": {},
   "source": [
    "stop scheduled actions when odoo is sending out emails and won't stop go to settings -> technical -> email -> emails and cancel the emails. "
   ]
  },
  {
   "cell_type": "markdown",
   "id": "3916116f-799c-476e-b568-3c342a4d72d8",
   "metadata": {},
   "source": [
    "confirm attribute is for form-view only and will trigger a confirmation-pop-up confirm=\"are you sure you want to do this?\""
   ]
  }
 ],
 "metadata": {
  "kernelspec": {
   "display_name": "Python 3 (ipykernel)",
   "language": "python",
   "name": "python3"
  },
  "language_info": {
   "codemirror_mode": {
    "name": "ipython",
    "version": 3
   },
   "file_extension": ".py",
   "mimetype": "text/x-python",
   "name": "python",
   "nbconvert_exporter": "python",
   "pygments_lexer": "ipython3",
   "version": "3.10.6"
  }
 },
 "nbformat": 4,
 "nbformat_minor": 5
}
