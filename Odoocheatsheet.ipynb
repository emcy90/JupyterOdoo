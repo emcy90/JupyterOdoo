{
 "cells": [
  {
   "cell_type": "markdown",
   "id": "91f68148-2e74-4737-bda2-5689096d2ad9",
   "metadata": {},
   "source": [
    "<H1>Odoo cheat sheet</H1>"
   ]
  },
  {
   "cell_type": "markdown",
   "id": "9ec5b250-b2c4-4e7e-8f56-22228b29e09e",
   "metadata": {},
   "source": [
    "testing testing\n"
   ]
  }
 ],
 "metadata": {
  "kernelspec": {
   "display_name": "Python 3 (ipykernel)",
   "language": "python",
   "name": "python3"
  },
  "language_info": {
   "codemirror_mode": {
    "name": "ipython",
    "version": 3
   },
   "file_extension": ".py",
   "mimetype": "text/x-python",
   "name": "python",
   "nbconvert_exporter": "python",
   "pygments_lexer": "ipython3",
   "version": "3.10.6"
  }
 },
 "nbformat": 4,
 "nbformat_minor": 5
}
